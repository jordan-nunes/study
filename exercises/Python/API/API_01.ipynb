{
 "cells": [
  {
   "cell_type": "markdown",
   "metadata": {},
   "source": [
    "## Exercise 1\n",
    "\n",
    "You must consume an API that returns a list of all currency bids."
   ]
  },
  {
   "cell_type": "code",
   "execution_count": 2,
   "metadata": {},
   "outputs": [
    {
     "name": "stdout",
     "output_type": "stream",
     "text": [
      "{'USD': {'code': 'USD', 'codein': 'BRL', 'name': 'Dólar Americano/Real Brasileiro', 'high': '5.8131', 'low': '5.7349', 'varBid': '0.0441', 'pctChange': '0.69', 'bid': '5.807', 'ask': '5.81', 'timestamp': '1738961939', 'create_date': '2025-02-07 17:58:59'}, 'USDT': {'code': 'USD', 'codein': 'BRLT', 'name': 'Dólar Americano/Real Brasileiro Turismo', 'high': '5.64', 'low': '5.64', 'varBid': '0.02', 'pctChange': '0.36', 'bid': '5.64', 'ask': '5.99', 'timestamp': '1738965598', 'create_date': '2025-02-07 18:59:58'}, 'CAD': {'code': 'CAD', 'codein': 'BRL', 'name': 'Dólar Canadense/Real Brasileiro', 'high': '4.0669', 'low': '4.053', 'varBid': '-0.0084', 'pctChange': '-0.21', 'bid': '4.0481', 'ask': '4.0578', 'timestamp': '1739147914', 'create_date': '2025-02-09 21:38:34'}, 'GBP': {'code': 'GBP', 'codein': 'BRL', 'name': 'Libra Esterlina/Real Brasileiro', 'high': '7.2046', 'low': '7.1994', 'varBid': '0.0002', 'pctChange': '0', 'bid': '7.1942', 'ask': '7.215', 'timestamp': '1739147923', 'create_date': '2025-02-09 21:38:43'}, 'ARS': {'code': 'ARS', 'codein': 'BRL', 'name': 'Peso Argentino/Real Brasileiro', 'high': '0.0055', 'low': '0.0055', 'varBid': '0', 'pctChange': '0', 'bid': '0.0055', 'ask': '0.0055', 'timestamp': '1739147911', 'create_date': '2025-02-09 21:38:31'}, 'BTC': {'code': 'BTC', 'codein': 'BRL', 'name': 'Bitcoin/Real Brasileiro', 'high': '570000', 'low': '555500', 'varBid': '539', 'pctChange': '0.1', 'bid': '566067', 'ask': '567200', 'timestamp': '1739147928', 'create_date': '2025-02-09 21:38:48'}, 'LTC': {'code': 'LTC', 'codein': 'BRL', 'name': 'Litecoin/Real Brasileiro', 'high': '660.71', 'low': '601.55', 'varBid': '36.43', 'pctChange': '5.93', 'bid': '654.18', 'ask': '658.41', 'timestamp': '1739147936', 'create_date': '2025-02-09 21:38:56'}, 'EUR': {'code': 'EUR', 'codein': 'BRL', 'name': 'Euro/Real Brasileiro', 'high': '5.9952', 'low': '5.9835', 'varBid': '-0.004', 'pctChange': '-0.07', 'bid': '5.9844', 'ask': '5.9988', 'timestamp': '1739147923', 'create_date': '2025-02-09 21:38:43'}, 'JPY': {'code': 'JPY', 'codein': 'BRL', 'name': 'Iene Japonês/Real Brasileiro', 'high': '0.03838', 'low': '0.03826', 'varBid': '-3.7954', 'pctChange': '-99', 'bid': '0.03821', 'ask': '0.03831', 'timestamp': '1739147910', 'create_date': '2025-02-09 21:38:30'}, 'CHF': {'code': 'CHF', 'codein': 'BRL', 'name': 'Franco Suíço/Real Brasileiro', 'high': '6.3832', 'low': '6.3794', 'varBid': '0.0001', 'pctChange': '0', 'bid': '6.3717', 'ask': '6.387', 'timestamp': '1739147921', 'create_date': '2025-02-09 21:38:41'}, 'AUD': {'code': 'AUD', 'codein': 'BRL', 'name': 'Dólar Australiano/Real Brasileiro', 'high': '3.6425', 'low': '3.6375', 'varBid': '-0.003', 'pctChange': '-0.08', 'bid': '3.6334', 'ask': '3.6421', 'timestamp': '1739147912', 'create_date': '2025-02-09 21:38:32'}, 'CNY': {'code': 'CNY', 'codein': 'BRL', 'name': 'Yuan Chinês/Real Brasileiro', 'high': '0.797', 'low': '0.7969', 'varBid': '-0.0001', 'pctChange': '-0.01', 'bid': '0.7967', 'ask': '0.7971', 'timestamp': '1739147883', 'create_date': '2025-02-09 21:38:03'}, 'ILS': {'code': 'ILS', 'codein': 'BRL', 'name': 'Novo Shekel Israelense/Real Brasileiro', 'high': '1.6317', 'low': '1.6317', 'varBid': '0', 'pctChange': '0', 'bid': '1.6313', 'ask': '1.6321', 'timestamp': '1739147886', 'create_date': '2025-02-09 21:38:06'}, 'ETH': {'code': 'ETH', 'codein': 'BRL', 'name': 'Ethereum/Real Brasileiro', 'high': '15770', 'low': '14827.89', 'varBid': '58.85', 'pctChange': '0.38', 'bid': '15491.02', 'ask': '15528.95', 'timestamp': '1739147936', 'create_date': '2025-02-09 21:38:56'}, 'XRP': {'code': 'XRP', 'codein': 'BRL', 'name': 'XRP/Real Brasileiro', 'high': '14.62', 'low': '13.56', 'varBid': '-0.06', 'pctChange': '-0.39', 'bid': '14.13', 'ask': '14.17', 'timestamp': '1739147936', 'create_date': '2025-02-09 21:38:56'}, 'DOGE': {'code': 'DOGE', 'codein': 'BRL', 'name': 'Dogecoin/Real Brasileiro', 'high': '1.5105', 'low': '1.4099', 'varBid': '-0.0066', 'pctChange': '-0.44', 'bid': '1.4728', 'ask': '1.4804', 'timestamp': '1739147926', 'create_date': '2025-02-09 21:38:46'}}\n"
     ]
    }
   ],
   "source": [
    "import requests\n",
    "import json\n",
    "\n",
    "economy_awesomeapi = requests.get('https://economia.awesomeapi.com.br/json/all')\n",
    "api_dict = economy_awesomeapi.json()\n",
    "print(api_dict)"
   ]
  },
  {
   "cell_type": "markdown",
   "metadata": {},
   "source": [
    "## Exercise 2\n",
    "\n",
    "What was the last bid for the Euro, the Dollar, and Bitcoin?"
   ]
  },
  {
   "cell_type": "code",
   "execution_count": 3,
   "metadata": {},
   "outputs": [
    {
     "name": "stdout",
     "output_type": "stream",
     "text": [
      "Euro: 5.9844 \n",
      "Dollar: 5.807 \n",
      "Bitcoin: 566067\n"
     ]
    }
   ],
   "source": [
    "euro_latest_bid = api_dict['EUR']['bid']\n",
    "dollar_latest_bid = api_dict['USD']['bid']\n",
    "bitcoin_latest_bid = api_dict['BTC']['bid']\n",
    "print(\"Euro:\", euro_latest_bid, \"\\nDollar:\", dollar_latest_bid, \"\\nBitcoin:\", bitcoin_latest_bid)"
   ]
  },
  {
   "cell_type": "markdown",
   "metadata": {},
   "source": [
    "## Exercise 3\n",
    "\n",
    "What was the bid for USD over the last 30 days?"
   ]
  },
  {
   "cell_type": "code",
   "execution_count": 29,
   "metadata": {},
   "outputs": [
    {
     "name": "stdout",
     "output_type": "stream",
     "text": [
      "{0: '5.807', 1: '5.807', 2: '5.8058', 3: '5.7617', 4: '5.8039', 5: '5.7581', 6: '5.8066', 7: '5.8435', 8: '5.843', 9: '5.841', 10: '5.8747', 11: '5.8563', 12: '5.8571', 13: '5.8926', 14: '5.912', 15: '5.9109', 16: '5.9243', 17: '5.9395', 18: '6.0246', 19: '6.0317', 20: '6.076', 21: '6.0499', 22: '6.0126', 23: '6.0559', 24: '6.095', 25: '6.1059', 26: '6.0884', 27: '6.1014', 28: '6.0351', 29: '6.1041'}\n"
     ]
    }
   ],
   "source": [
    "dollar_latest_30_days_get = requests.get('https://economia.awesomeapi.com.br/json/daily/USD-BRL/30')\n",
    "dollar_latest_30_days_dict = dollar_latest_30_days_get.json()\n",
    "dollar_latest_30_days = {idx: item.get('bid') for idx, item in enumerate(dollar_latest_30_days_dict) if 'bid' in item}\n",
    "print(dollar_latest_30_days)"
   ]
  },
  {
   "cell_type": "markdown",
   "metadata": {},
   "source": [
    "## Exercise 4\n",
    "\n",
    "Display the Bitcoin bid from January 2020 to October 2020."
   ]
  },
  {
   "cell_type": "code",
   "execution_count": 37,
   "metadata": {},
   "outputs": [
    {
     "name": "stdout",
     "output_type": "stream",
     "text": [
      "{0: '79401.1', 1: '79401', 2: '79401', 3: '79401', 4: '79401', 5: '79401', 6: '79401', 7: '79500', 8: '79500', 9: '79500', 10: '79601.9', 11: '79601.9', 12: '79601.9', 13: '79601.9', 14: '79602.1', 15: '79602.1', 16: '79602.1', 17: '79602', 18: '79602', 19: '79601.9', 20: '79681.7', 21: '79601.9', 22: '79601.9', 23: '79601.9', 24: '79601.9', 25: '79601.9', 26: '79601.9', 27: '79601.9', 28: '79401', 29: '79401', 30: '79400', 31: '79400', 32: '79304.2', 33: '79304.1', 34: '79681.7', 35: '79304', 36: '79221.4', 37: '79220.1', 38: '79210.4', 39: '79203.7', 40: '79202.4', 41: '79201.1', 42: '79675.8', 43: '79400.1', 44: '79377', 45: '79482', 46: '79714.1', 47: '79481.8', 48: '79481.6', 49: '79481.5', 50: '79481', 51: '79483.5', 52: '79483.4', 53: '79482.9', 54: '79482.3', 55: '79482.1', 56: '79482', 57: '79481.9', 58: '79481.8', 59: '79481.9', 60: '79481.8', 61: '79481.3', 62: '79481', 63: '79467.9', 64: '79544.4', 65: '79544.4', 66: '79544.4', 67: '79467.9', 68: '79303.7', 69: '79303.5', 70: '79303.5', 71: '79303.5', 72: '79303.4', 73: '79302.9', 74: '79400', 75: '79498.2', 76: '79300', 77: '79331', 78: '79322', 79: '79300', 80: '79200', 81: '79142', 82: '79140.1', 83: '79140', 84: '79200.1', 85: '79200', 86: '79200', 87: '79200', 88: '79200', 89: '79403.4', 90: '79403.4', 91: '79406.4', 92: '79403.4', 93: '79454.7', 94: '79500', 95: '79548.3', 96: '79548.3', 97: '79548.3', 98: '79548.3', 99: '79548.3'}\n"
     ]
    }
   ],
   "source": [
    "bitcoin_jan_to_oct_get = requests.get('https://economia.awesomeapi.com.br/BTC-BRL/200?start_date=20200101&end_date=20201031')\n",
    "bitcoin_jan_to_oct_dict = bitcoin_jan_to_oct_get.json()\n",
    "bitcoin_jan_to_oct = {idx: item.get('bid') for idx, item in enumerate(bitcoin_jan_to_oct_dict) if 'bid' in item}\n",
    "print(bitcoin_jan_to_oct)"
   ]
  }
 ],
 "metadata": {
  "kernelspec": {
   "display_name": "base",
   "language": "python",
   "name": "python3"
  },
  "language_info": {
   "codemirror_mode": {
    "name": "ipython",
    "version": 3
   },
   "file_extension": ".py",
   "mimetype": "text/x-python",
   "name": "python",
   "nbconvert_exporter": "python",
   "pygments_lexer": "ipython3",
   "version": "3.11.5"
  }
 },
 "nbformat": 4,
 "nbformat_minor": 2
}
