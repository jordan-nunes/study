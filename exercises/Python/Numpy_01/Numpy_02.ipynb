{
 "cells": [
  {
   "cell_type": "markdown",
   "metadata": {},
   "source": [
    "## Exercise 1\n",
    "\n",
    "You are an HR analyst and you got the salaries of all employee in a NumPy array. Your task is to identify how many employee earn above average. Use the following array: `salary = np.array([3000, 2500, 3500, 4000, 2000, 4500, 3000, 3800, 4800])`."
   ]
  },
  {
   "cell_type": "code",
   "execution_count": 35,
   "metadata": {
    "ExecuteTime": {
     "end_time": "2023-07-03T17:58:55.261401600Z",
     "start_time": "2023-07-03T17:58:55.249755Z"
    },
    "collapsed": false,
    "jupyter": {
     "outputs_hidden": false
    }
   },
   "outputs": [
    {
     "name": "stdout",
     "output_type": "stream",
     "text": [
      "Indexes: (array([2, 3, 5, 7, 8], dtype=int64),)\n",
      "Salaries above average: [3500 4000 4500 3800 4800]\n",
      "Amount of salaries: 5\n"
     ]
    }
   ],
   "source": [
    "import numpy as np\n",
    "\n",
    "salary = np.array([3000, 2500, 3500, 4000, 2000, 4500, 3000, 3800, 4800])\n",
    "\n",
    "salary_average_index = np.where(salary >= salary.mean())\n",
    "salary_average = salary[salary_average_index]\n",
    "\n",
    "print(f\"Indexes: {salary_average_index}\\nSalaries above average: {salary_average}\\nAmount of salaries: {len(salary_average)}\")\n"
   ]
  },
  {
   "cell_type": "markdown",
   "metadata": {},
   "source": [
    "## Exercise 2\n",
    "\n",
    "You are a Production Engineer and you got the cicle times (in minutes) of a production line in a NumPy array. Your task is to identify any cicle that are two standard deviations above or below the mean. Use the following array: `cicle_times = np.array([5.5, 5.7, 5.9, 6.0, 5.8, 5.6, 5.7, 7.2, 4.8])`. "
   ]
  },
  {
   "cell_type": "code",
   "execution_count": 36,
   "metadata": {},
   "outputs": [
    {
     "name": "stdout",
     "output_type": "stream",
     "text": [
      "Indexes: (array([7], dtype=int64),)\n",
      "Cicle time: [7.2]\n"
     ]
    }
   ],
   "source": [
    "cicle_times = np.array([5.5, 5.7, 5.9, 6.0, 5.8, 5.6, 5.7, 7.2, 4.8])\n",
    "\n",
    "cicle_deviantation_index = np.where((cicle_times <= (cicle_times.mean() - 2 * cicle_times.std())) | (cicle_times >= (cicle_times.mean() + 2 * cicle_times.std())))\n",
    "print(f\"Indexes: {cicle_deviantation_index}\\nCicle time: {cicle_times[cicle_deviantation_index]}\")"
   ]
  }
 ],
 "metadata": {
  "kernelspec": {
   "display_name": "base",
   "language": "python",
   "name": "python3"
  },
  "language_info": {
   "codemirror_mode": {
    "name": "ipython",
    "version": 3
   },
   "file_extension": ".py",
   "mimetype": "text/x-python",
   "name": "python",
   "nbconvert_exporter": "python",
   "pygments_lexer": "ipython3",
   "version": "3.11.5"
  }
 },
 "nbformat": 4,
 "nbformat_minor": 4
}
