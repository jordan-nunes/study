{
 "cells": [
  {
   "cell_type": "markdown",
   "metadata": {},
   "source": [
    "## Exercise 1\n",
    "\n",
    "You have a store that operates from Monday to Saturday, except on holidays. Over the last 30 days, the minimum sales were 20, and the maximum sales were 200. Create a simulation of these last 30 days, separated by week. Also, calculate: Total weekly sales, average weekly sales, and average monthly sales."
   ]
  },
  {
   "cell_type": "code",
   "execution_count": 5,
   "metadata": {},
   "outputs": [
    {
     "name": "stdout",
     "output_type": "stream",
     "text": [
      "Total weekly sales: [706 585 776 709 775]\n",
      "Average weekly sales: [117.66666667  97.5        129.33333333 118.16666667 129.16666667]\n",
      "Average monthly sales: 118.36666666666666\n"
     ]
    }
   ],
   "source": [
    "import numpy as np\n",
    "\n",
    "sales = np.array([20, 200])\n",
    "rng = np.random.default_rng(seed=42)\n",
    "\n",
    "sale_days = 30\n",
    "#sales_rng = rng.uniform(low=sales.min(), high=sales.max(), size=sale_days)\n",
    "sales_matrix = rng.integers(low=20, high=200, size=(5, 6), endpoint=True)\n",
    "#sales_matrix = sales_rng.reshape(6, -1)\n",
    "\n",
    "sales_weekly = sales_matrix.sum(axis=1)\n",
    "sales_week_avg = sales_matrix.mean(axis=1)\n",
    "sales_monthly_avg = sales_matrix.mean()\n",
    "\n",
    "print(f\"Total weekly sales: {sales_weekly}\\nAverage weekly sales: {sales_week_avg}\\nAverage monthly sales: {sales_monthly_avg}\")"
   ]
  },
  {
   "cell_type": "markdown",
   "metadata": {},
   "source": [
    "## Exercise 2\n",
    "\n",
    "You are a Sales Manager, and you have the sales data from three different products (Product A, Product B, and Product C) over the last 5 days in a 2D NumPy array. Each row represents a product, and each column represents a day. \n",
    "Your task is to calculate the total sales for each product and each day.\n",
    "\n",
    "Use the following array:\n",
    "sales = np.array([[50, 60, 70, 65, 80], [85, 90, 78, 92, 88], [72, 75, 68, 77, 76]])"
   ]
  },
  {
   "cell_type": "code",
   "execution_count": 7,
   "metadata": {},
   "outputs": [
    {
     "name": "stdout",
     "output_type": "stream",
     "text": [
      "Product A sales: 325\n",
      "Product B sales: 433\n",
      "Product C sales: 368\n",
      "\n",
      "Monday sales: 207\n",
      "Tuesday sales: 225\n",
      "Wednesday sales: 216\n",
      "Thursday sales: 234\n",
      "Friday sales: 244\n"
     ]
    }
   ],
   "source": [
    "sales = np.array([[50, 60, 70, 65, 80], [85, 90, 78, 92, 88], [72, 75, 68, 77, 76]])\n",
    "\n",
    "sales_products = sales.sum(axis=1)\n",
    "sales_days = sales.sum(axis=0)\n",
    "\n",
    "print(f\"Product A sales: {sales_products[0]}\\nProduct B sales: {sales_products[1]}\\nProduct C sales: {sales_products[2]}\\n\")\n",
    "print(f\"Monday sales: {sales_days[0]}\\nTuesday sales: {sales_days[1]}\\nWednesday sales: {sales_days[2]}\\nThursday sales: {sales_days[3]}\\nFriday sales: {sales_days[4]}\")"
   ]
  },
  {
   "cell_type": "markdown",
   "metadata": {},
   "source": [
    "## Exercise 3\n",
    "\n",
    "You are a Data Analyst and conducted a costumer satisfaction survey over a week. You asked customers to rate their satisfaction level on a scale from 0 to 10. You collected responses of 30 clients per day over 7 days, resulting in a total of 210 responses.\n",
    "However, the data you received is in a 1D array of 210 elements. Reorganize the data to group the responses by day and perform a basic descriptive analysis, calculating the overall satisfaction average and the daily average satisfaction."
   ]
  },
  {
   "cell_type": "code",
   "execution_count": 8,
   "metadata": {},
   "outputs": [
    {
     "name": "stdout",
     "output_type": "stream",
     "text": [
      "Overall average satisfaction: 5.147619047619048\n",
      "\n",
      "Day 1 average satisfaction: 165\n",
      "Day 2 average satisfaction: 152\n",
      "Day 3 average satisfaction: 161\n",
      "Day 4 average satisfaction: 153\n",
      "Day 5 average satisfaction: 149\n",
      "Day 6 average satisfaction: 150\n",
      "Day 7 average satisfaction: 151\n"
     ]
    }
   ],
   "source": [
    "rng = np.random.default_rng(seed=42)\n",
    "\n",
    "survey = rng.integers(low=0, high=10, size=210, endpoint=True)\n",
    "survey_average = survey.mean()\n",
    "\n",
    "survey_daily = survey.reshape(7, -1)\n",
    "survey_daily_average = survey_daily.sum(axis=1)\n",
    "\n",
    "print(f\"Overall average satisfaction: {survey_average}\\n\")\n",
    "for i in range(7):\n",
    "    print(f\"Day {i + 1} average satisfaction: {survey_daily_average[i]}\")"
   ]
  },
  {
   "cell_type": "markdown",
   "metadata": {},
   "source": [
    "## Exercise 4\n",
    " You have the sales data from n weeks and you have to reorganize it in a dict of days of week."
   ]
  },
  {
   "cell_type": "code",
   "execution_count": 18,
   "metadata": {},
   "outputs": [
    {
     "data": {
      "text/plain": [
       "{'mon': array([277.39560486, 278.60643053, 244.34141988, 235.45259681,\n",
       "        215.42894921]),\n",
       " 'tue': array([243.88784398, 212.81136327, 222.72387218, 297.06980244,\n",
       "        268.30489532]),\n",
       " 'wed': array([285.85979199, 245.03859379, 255.4584787 , 289.31211213,\n",
       "        274.47621559]),\n",
       " 'thu': array([269.73680291, 237.07980242, 206.38172561, 277.83834971,\n",
       "        296.75097324]),\n",
       " 'fri': array([209.41773479, 292.67649888, 282.7631172 , 219.46387079,\n",
       "        232.58253581]),\n",
       " 'sat': array([297.56223516, 264.38651201, 263.16643991, 246.67210037,\n",
       "        237.0459706 ]),\n",
       " 'sun': array([276.1139702 , 282.27616133, 275.80877401, 204.38037658,\n",
       "        246.95558113])}"
      ]
     },
     "metadata": {},
     "output_type": "display_data"
    }
   ],
   "source": [
    "sales = np.array([200, 220, 250, 210, 300, 280, 230, 210, 220, 240, 230, 210, 280, 220])\n",
    "week = ['mon', 'tue', 'wed', 'thu', 'fri', 'sat', 'sun']\n",
    "rng = np.random.default_rng(seed=42)\n",
    "\n",
    "sample_len = 35\n",
    "sales_rng = rng.uniform(low=np.min(sales), high=np.max(sales), size=sample_len)\n",
    "sales_indexes = np.tile(np.arange(len(week)), sample_len // len(week) + 1)[:sample_len]\n",
    "sales_weeks = {day: sales_rng[sales_indexes == i] for i, day in enumerate(week)}\n",
    "\n",
    "display(sales_weeks)"
   ]
  }
 ],
 "metadata": {
  "kernelspec": {
   "display_name": "base",
   "language": "python",
   "name": "python3"
  },
  "language_info": {
   "codemirror_mode": {
    "name": "ipython",
    "version": 3
   },
   "file_extension": ".py",
   "mimetype": "text/x-python",
   "name": "python",
   "nbconvert_exporter": "python",
   "pygments_lexer": "ipython3",
   "version": "3.11.5"
  }
 },
 "nbformat": 4,
 "nbformat_minor": 2
}
