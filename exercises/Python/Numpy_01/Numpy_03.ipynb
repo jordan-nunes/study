{
 "cells": [
  {
   "cell_type": "markdown",
   "metadata": {},
   "source": [
    "## Exercise 1\n",
    "\n",
    "You have a store that operates from Monday to Saturday, except on holidays. Over the last 30 days, the minimum sales were 20, and the maximum sales were 200. Create a simulation of these last 30 days, separated by week. Also, calculate: Total weekly sales, average weekly sales, and average monthly sales."
   ]
  },
  {
   "cell_type": "code",
   "execution_count": null,
   "metadata": {
    "vscode": {
     "languageId": "plaintext"
    }
   },
   "outputs": [],
   "source": []
  },
  {
   "cell_type": "markdown",
   "metadata": {},
   "source": [
    "## Exercise 2\n",
    "\n",
    "You are a Sales Manager, and you have the sales data from three different products (Product A, Product B, and Product C) over the last 5 days in a 2D NumPy array. Each row represents a product, and each column represents a day. \n",
    "Your task is to calculate the total sales for each product and each day.\n",
    "\n",
    "Use the following array:\n",
    "sales = np.array([[50, 60, 70, 65, 80], [85, 90, 78, 92, 88], [72, 75, 68, 77, 76]])"
   ]
  },
  {
   "cell_type": "code",
   "execution_count": null,
   "metadata": {
    "vscode": {
     "languageId": "plaintext"
    }
   },
   "outputs": [],
   "source": []
  },
  {
   "cell_type": "markdown",
   "metadata": {},
   "source": [
    "## Exercise 3\n",
    "\n",
    "You are a Data Analyst and conducted a costumer satisfaction survey over a week. You asked customers to rate their satisfaction level on a scale from 0 to 10. You collected responses of 30 clients per day over 7 days, resulting in a total of 210 responses.\n",
    "However, the data you received is in a 1D array of 210 elements. Reorganize the data to group the responses by day and perform a basic descriptive analysis, calculating the overall satisfaction average and the daily average satisfaction."
   ]
  },
  {
   "cell_type": "code",
   "execution_count": null,
   "metadata": {
    "vscode": {
     "languageId": "plaintext"
    }
   },
   "outputs": [],
   "source": []
  }
 ],
 "metadata": {
  "language_info": {
   "name": "python"
  }
 },
 "nbformat": 4,
 "nbformat_minor": 2
}
