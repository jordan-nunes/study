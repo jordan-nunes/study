{
 "cells": [
  {
   "cell_type": "markdown",
   "metadata": {},
   "source": [
    "## Exercise 1\n",
    "\n",
    "You are a sales manager and you got the saling data of a product over the last 7 days in a list: `[127, 90, 201, 150, 210, 220, 115]`. Calculate the averange sales of throughout the week."
   ]
  },
  {
   "cell_type": "code",
   "execution_count": 17,
   "metadata": {},
   "outputs": [
    {
     "name": "stdout",
     "output_type": "stream",
     "text": [
      "Averange sales: 159.00\n"
     ]
    }
   ],
   "source": [
    "import numpy as np\n",
    "\n",
    "sales = np.array([127, 90, 201, 150, 210, 220, 115])\n",
    "avg_sales = np.average(sales)\n",
    "\n",
    "print(f\"Averange sales: {avg_sales:.2f}\")\n"
   ]
  },
  {
   "cell_type": "markdown",
   "metadata": {},
   "source": [
    "## Exercise 2\n",
    "\n",
    "You are a financial analyst and you got the end price of a stock from the last week in a NumPy array: `prices = np.array([31.40, 31.25, 30.95, 31.20, 31.60, 31.50])`. Calculate the max, min  and price variation throughout the week."
   ]
  },
  {
   "cell_type": "code",
   "execution_count": 15,
   "metadata": {},
   "outputs": [
    {
     "name": "stdout",
     "output_type": "stream",
     "text": [
      "Max price: 31.6. Min price: 30.95. Price variation: 0.65.\n"
     ]
    }
   ],
   "source": [
    "prices = np.array([31.40, 31.25, 30.95, 31.20, 31.60, 31.50])\n",
    "prices_max = np.max(prices)\n",
    "prices_min = np.min(prices)\n",
    "prices_variation = prices_max - prices_min\n",
    "\n",
    "print(f\"Max price: {prices_max}. Min price: {prices_min}. Price variation: {prices_variation:.2f}.\")"
   ]
  },
  {
   "cell_type": "markdown",
   "metadata": {},
   "source": [
    "## Exercise 3\n",
    "\n",
    "Your store sold 5 units of \"Product A\", 3 units of \"Product B\" and 2 units of \"Product C\" in one day. The product prices are 100, 200 and 50$. Calculate the total sales for the day."
   ]
  },
  {
   "cell_type": "code",
   "execution_count": 16,
   "metadata": {},
   "outputs": [
    {
     "name": "stdout",
     "output_type": "stream",
     "text": [
      "Total sales: 1200.00\n"
     ]
    }
   ],
   "source": [
    "product_sales = np.array([5, 3 , 2])\n",
    "product_prices = np.array([100, 200, 50])\n",
    "product_profits = np.dot(product_sales, product_prices)\n",
    "\n",
    "print(f\"Daily total sales: {product_profits:.2f}\")"
   ]
  }
 ],
 "metadata": {
  "kernelspec": {
   "display_name": "base",
   "language": "python",
   "name": "python3"
  },
  "language_info": {
   "codemirror_mode": {
    "name": "ipython",
    "version": 3
   },
   "file_extension": ".py",
   "mimetype": "text/x-python",
   "name": "python",
   "nbconvert_exporter": "python",
   "pygments_lexer": "ipython3",
   "version": "3.11.5"
  }
 },
 "nbformat": 4,
 "nbformat_minor": 4
}
