{
 "cells": [
  {
   "cell_type": "markdown",
   "metadata": {},
   "source": [
    "# Lambda Expressions exercises\n",
    "\n",
    "### Use lambda as argument of any function, like map and filter, for the following dictionary:\n",
    "\n",
    "products = {'notebook asus': 2450, 'iphone': 4500, 'samsung galaxy': 3000, 'tv samsung': 1000, 'ps5': 3000, 'tablet': 1000, 'notebook dell': 3000, 'ipad': 3000, 'tv philco': 800, 'notebook hp': 1700}"
   ]
  },
  {
   "cell_type": "code",
   "execution_count": 1,
   "metadata": {},
   "outputs": [],
   "source": [
    "products = {'notebook asus': 2450, 'iphone': 4500, 'samsung galaxy': 3000, 'tv samsung': 1000, 'ps5': 3000, 'tablet': 1000, 'notebook dell': 3000, 'ipad': 3000, 'tv philco': 800, 'notebook hp': 1700}"
   ]
  },
  {
   "cell_type": "markdown",
   "metadata": {},
   "source": [
    "### map()\n",
    "- What is the price of each product increased by the tax of 30%?"
   ]
  },
  {
   "cell_type": "code",
   "execution_count": 4,
   "metadata": {},
   "outputs": [
    {
     "name": "stdout",
     "output_type": "stream",
     "text": [
      "{'notebook asus': 3185.0, 'iphone': 5850.0, 'samsung galaxy': 3900.0, 'tv samsung': 1300.0, 'ps5': 3900.0, 'tablet': 1300.0, 'notebook dell': 3900.0, 'ipad': 3900.0, 'tv philco': 1040.0, 'notebook hp': 2210.0}\n"
     ]
    }
   ],
   "source": [
    "products_taxed = dict(zip(products.keys(), (map(lambda x: x * 1.3, products.values()))))\n",
    "print(products_taxed)"
   ]
  },
  {
   "cell_type": "markdown",
   "metadata": {},
   "source": [
    "### filter()\n",
    "- List only the products that are 200$ or more"
   ]
  },
  {
   "cell_type": "code",
   "execution_count": 3,
   "metadata": {},
   "outputs": [
    {
     "name": "stdout",
     "output_type": "stream",
     "text": [
      "{'notebook asus': 2450, 'iphone': 4500, 'samsung galaxy': 3000, 'ps5': 3000, 'notebook dell': 3000, 'ipad': 3000}\n"
     ]
    }
   ],
   "source": [
    "products_2000 = dict(filter(lambda item: item[1] >= 2000, products.items()))\n",
    "print(products_2000)"
   ]
  },
  {
   "cell_type": "markdown",
   "metadata": {},
   "source": [
    "### Lambda in Functions\n",
    "- Create a function that allows to calculate the value increased by tax of different products categories and apply it to 100$ in each category\n",
    "{product = 0.1\n",
    "service = 0.15\n",
    "royalties = 0.25}"
   ]
  },
  {
   "cell_type": "code",
   "execution_count": 2,
   "metadata": {},
   "outputs": [
    {
     "name": "stdout",
     "output_type": "stream",
     "text": [
      "110.00000000000001\n",
      "114.99999999999999\n",
      "125.0\n"
     ]
    }
   ],
   "source": [
    "product = 0.1\n",
    "service = 0.15\n",
    "royalties = 0.25\n",
    "\n",
    "def calculate_tax(tax):\n",
    "    return lambda price: price * (1 + tax)\n",
    "\n",
    "calculate_price_product = calculate_tax(product)\n",
    "calculate_price_service = calculate_tax(service)\n",
    "calculate_price_royalties = calculate_tax(royalties)\n",
    "\n",
    "print(calculate_price_product(100))\n",
    "print(calculate_price_service(100))\n",
    "print(calculate_price_royalties(100))"
   ]
  }
 ],
 "metadata": {
  "kernelspec": {
   "display_name": "base",
   "language": "python",
   "name": "python3"
  },
  "language_info": {
   "codemirror_mode": {
    "name": "ipython",
    "version": 3
   },
   "file_extension": ".py",
   "mimetype": "text/x-python",
   "name": "python",
   "nbconvert_exporter": "python",
   "pygments_lexer": "ipython3",
   "version": "3.11.5"
  }
 },
 "nbformat": 4,
 "nbformat_minor": 4
}
