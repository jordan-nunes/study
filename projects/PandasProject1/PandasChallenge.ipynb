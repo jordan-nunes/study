{
 "cells": [
  {
   "cell_type": "markdown",
   "metadata": {},
   "source": [
    "# Exercise - Mini Data Analysis Project\n",
    "\n",
    "Let's do a complete pandas exercise for a mini data analysis challenge.\n",
    "\n",
    "This exercise will help to put in use the knowledge of pandas and even other modules.\n",
    "\n",
    "### What do we have?\n",
    "\n",
    "We have 2019 data from a service company.\n",
    "\n",
    "- EmployeeRegistry  \n",
    "- ClientRegistry  \n",
    "- ProvidedServicesBase  \n",
    "\n",
    "**Note 1**: To read CSV files, use `read_csv`  \n",
    "**Note 2**: To read XLSX files (standard Excel files, not CSV), use `read_excel`\n",
    "\n",
    "### What do we want to know/do?\n",
    "\n",
    "1. **Total Payroll Value** -> What was the company's total expenditure on employee salaries?  \n",
    "    **Suggestion**: Calculate the total salary of each employee: salary + benefits + taxes, then sum up all salaries.\n",
    "\n",
    "2. **What was the company's revenue?**  \n",
    "    **Suggestion**: Calculate the total revenue for each service, then sum up the revenue from all services.\n",
    "\n",
    "3. **What percentage of employees have closed a contract?**  \n",
    "    **Suggestion**: In the services database, we have the employee who closed each service. However, not all employees in the company have closed a service.  \n",
    "    - In the employee registry, we have a list of all employees.  \n",
    "    - We want to calculate `Number_of_Employees_Closed_Services / Total_Number_of_Employees`.  \n",
    "    - To calculate the number of employees who closed a service, use the services database and count how many employees are listed there. But remember, each employee should only be counted once.  \n",
    "    **Tip**: If you apply the `.unique()` method to a variable that is just one column of a DataFrame, it will remove all duplicate values from that column.  \n",
    "    Example: `unique_colA = dataframe['columnA'].unique()` returns a list with all items in columnA appearing only once. All repeated values in columnA are excluded from the `unique_colA` variable.\n",
    "\n",
    "4. **Calculate the total number of contracts each company department has closed.**\n",
    "\n",
    "5. **Calculate the total number of employees per department.**\n",
    "\n",
    "6. **What is the average monthly ticket value (average monthly revenue) of the contracts?**  \n",
    "    **Tip**: `.mean()` calculates the average -> Example: `average_colA = dataframe['columnA'].mean()`\n",
    "\n",
    "**Note**: Common encoding options:  \n",
    "`encoding='latin1'`, `encoding='ISO-8859-1'`, `encoding='utf-8'`, or `encoding='cp1252'`.\n",
    "\n",
    "**Important Observation**: If your code throws an error while importing the files:  \n",
    "- ClientRegistry.csv  \n",
    "- EmployeeRegistry.csv  \n",
    "\n",
    "Use `;` (semicolon) as a separator to resolve this issue."
   ]
  },
  {
   "cell_type": "markdown",
   "metadata": {},
   "source": [
    "1. **Total Payroll Value**"
   ]
  },
  {
   "cell_type": "code",
   "execution_count": 1,
   "metadata": {},
   "outputs": [
    {
     "name": "stdout",
     "output_type": "stream",
     "text": [
      "Total Payroll Value is $2,717,493.22\n"
     ]
    }
   ],
   "source": [
    "import pandas as pd\n",
    "\n",
    "employee_df = pd.read_csv('EmployeeRegistry.csv', sep=';', decimal=',')\n",
    "client_df = pd.read_csv('ClientRegistry.csv', sep=';', decimal=',')\n",
    "services_df = pd.read_excel('ProvidedServicesBase.xlsx')\n",
    "\n",
    "employee_df = employee_df.drop(['Marital Status', 'Position'], axis=1)\n",
    "\n",
    "employee_df['Total Salary'] = employee_df['Base Salary'] + employee_df['Taxes'] + employee_df['Benefits'] + employee_df['TA'] + employee_df['MA']\n",
    "print('Total Payroll Value is ${:,}'.format(sum(employee_df['Total Salary'])))"
   ]
  },
  {
   "cell_type": "markdown",
   "metadata": {},
   "source": [
    "2. **What was the company's revenue?**  "
   ]
  },
  {
   "cell_type": "code",
   "execution_count": 2,
   "metadata": {},
   "outputs": [
    {
     "name": "stdout",
     "output_type": "stream",
     "text": [
      "The revenue was $5,519,160\n"
     ]
    }
   ],
   "source": [
    "revenue_df = services_df[['Client ID', 'Total Contract Time (Months)']].merge(client_df[['Client ID', 'Montly Contract Price']])\n",
    "\n",
    "print('The revenue was ${:,}'.format(sum(revenue_df['Total Contract Time (Months)'] * revenue_df['Montly Contract Price'])))"
   ]
  },
  {
   "cell_type": "markdown",
   "metadata": {},
   "source": [
    "3. **What percentage of employees have closed a contract?** "
   ]
  },
  {
   "cell_type": "code",
   "execution_count": 3,
   "metadata": {},
   "outputs": [
    {
     "name": "stdout",
     "output_type": "stream",
     "text": [
      "Percentage was 86.84%\n"
     ]
    }
   ],
   "source": [
    "qtt_contracts = len(services_df['Employee ID'].unique())\n",
    "qtt_total_employee = len(employee_df['Employee ID'])\n",
    "print('Percentage was {:.2%}'.format(qtt_contracts / qtt_total_employee))"
   ]
  },
  {
   "cell_type": "markdown",
   "metadata": {},
   "source": [
    "4. **Calculate the total number of contracts each company department has closed.**"
   ]
  },
  {
   "cell_type": "code",
   "execution_count": 4,
   "metadata": {},
   "outputs": [
    {
     "name": "stdout",
     "output_type": "stream",
     "text": [
      "Area\n",
      "Administrative    63\n",
      "Operations        48\n",
      "Sales             44\n",
      "Finance           42\n",
      "Logistics         40\n",
      "Name: count, dtype: int64\n"
     ]
    },
    {
     "data": {
      "text/plain": [
       "<Axes: xlabel='Area'>"
      ]
     },
     "execution_count": 4,
     "metadata": {},
     "output_type": "execute_result"
    },
    {
     "data": {
      "image/png": "[encoded data removed]",
      "text/plain": [
       "<Figure size 640x480 with 1 Axes>"
      ]
     },
     "metadata": {},
     "output_type": "display_data"
    }
   ],
   "source": [
    "area_contracts_df = services_df[['Employee ID']].merge(employee_df[['Employee ID', 'Area']])\n",
    "qtt_contracts_area = area_contracts_df['Area'].value_counts()\n",
    "print(qtt_contracts_area)\n",
    "qtt_contracts_area.plot(kind='bar')"
   ]
  },
  {
   "cell_type": "markdown",
   "metadata": {},
   "source": [
    "5. **Calculate the total number of employees per department.**"
   ]
  },
  {
   "cell_type": "code",
   "execution_count": 5,
   "metadata": {},
   "outputs": [
    {
     "name": "stdout",
     "output_type": "stream",
     "text": [
      "Area\n",
      "Administrative    26\n",
      "Sales             26\n",
      "Operations        23\n",
      "Logistics         21\n",
      "Finance           18\n",
      "Name: count, dtype: int64\n"
     ]
    },
    {
     "data": {
      "text/plain": [
       "<Axes: xlabel='Area'>"
      ]
     },
     "execution_count": 5,
     "metadata": {},
     "output_type": "execute_result"
    },
    {
     "data": {
      "image/png": "[encoded data removed]",
      "text/plain": [
       "<Figure size 640x480 with 1 Axes>"
      ]
     },
     "metadata": {},
     "output_type": "display_data"
    }
   ],
   "source": [
    "qtt_employee_area = employee_df['Area'].value_counts()\n",
    "print(qtt_employee_area)\n",
    "qtt_employee_area.plot(kind='bar')"
   ]
  },
  {
   "cell_type": "markdown",
   "metadata": {},
   "source": [
    "6. **What is the average monthly ticket value (average monthly revenue) of the contracts?**  "
   ]
  },
  {
   "cell_type": "code",
   "execution_count": 6,
   "metadata": {},
   "outputs": [
    {
     "name": "stdout",
     "output_type": "stream",
     "text": [
      "Averange montly ticket is $2,502.56\n"
     ]
    }
   ],
   "source": [
    "avg_ticket = client_df['Montly Contract Price'].mean()\n",
    "print('Averange montly ticket is ${:,.2f}'.format(avg_ticket)) "
   ]
  }
 ],
 "metadata": {
  "kernelspec": {
   "display_name": "base",
   "language": "python",
   "name": "python3"
  },
  "language_info": {
   "codemirror_mode": {
    "name": "ipython",
    "version": 3
   },
   "file_extension": ".py",
   "mimetype": "text/x-python",
   "name": "python",
   "nbconvert_exporter": "python",
   "pygments_lexer": "ipython3",
   "version": "3.11.5"
  }
 },
 "nbformat": 4,
 "nbformat_minor": 4
}
