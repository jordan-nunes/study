{
 "cells": [
  {
   "cell_type": "markdown",
   "id": "993ee9ad",
   "metadata": {},
   "source": [
    "### Import database"
   ]
  },
  {
   "cell_type": "code",
   "execution_count": 2,
   "id": "90e92890",
   "metadata": {},
   "outputs": [],
   "source": [
    "import pandas as pd\n",
    "\n",
    "df = pd.read_csv('exports.csv')"
   ]
  },
  {
   "cell_type": "markdown",
   "id": "4ad76a65",
   "metadata": {},
   "source": [
    "### General Information\n",
    "\n",
    "How many rows are there in the table? Are there any empty spaces that should be adressed?"
   ]
  },
  {
   "cell_type": "code",
   "execution_count": 14,
   "id": "cce34f4d",
   "metadata": {},
   "outputs": [
    {
     "name": "stdout",
     "output_type": "stream",
     "text": [
      "Number of rows in table: 142360\n",
      "Are there empty spaces that should be adressed? False\n"
     ]
    }
   ],
   "source": [
    "df_rows = df.shape[0]\n",
    "print('Number of rows in table: {}'.format(df_rows))\n",
    "\n",
    "empty_cells = df.applymap(lambda x: isinstance(x, str) and x.strip() == \"\")\n",
    "bool_empty_cells = empty_cells.any().any()\n",
    "\n",
    "print('Are there empty spaces that should be adressed?', bool_empty_cells)"
   ]
  },
  {
   "cell_type": "markdown",
   "id": "2daa0fa9",
   "metadata": {},
   "source": [
    "### How did exports to France evolve over the years?\n",
    "\n",
    "Create a table with the years 2016, 2017, 2018, 2019 and 2020, and the value of exports in US$"
   ]
  },
  {
   "cell_type": "code",
   "execution_count": 32,
   "id": "f02fb7d6",
   "metadata": {},
   "outputs": [
    {
     "data": {
      "text/plain": [
       "Year\n",
       "2016    4615500082\n",
       "2017    4448705456\n",
       "2018    5239424416\n",
       "2019    5218723612\n",
       "2020    3967594810\n",
       "Name: US$ FOB, dtype: int64"
      ]
     },
     "metadata": {},
     "output_type": "display_data"
    },
    {
     "data": {
      "text/plain": [
       "<Axes: xlabel='Year'>"
      ]
     },
     "execution_count": 32,
     "metadata": {},
     "output_type": "execute_result"
    },
    {
     "data": {
      "image/png": "[encoded data removed]",
      "text/plain": [
       "<Figure size 640x480 with 1 Axes>"
      ]
     },
     "metadata": {},
     "output_type": "display_data"
    }
   ],
   "source": [
    "year_exports = df.groupby('Year')['US$ FOB'].sum()\n",
    "#year_exports = year_exports.map(lambda x: f'B.US$ {x / 1e9:,.1f}')\n",
    "display(year_exports)\n",
    "year_exports.plot(kind='bar')"
   ]
  },
  {
   "cell_type": "markdown",
   "id": "717e331d",
   "metadata": {},
   "source": [
    "### What are the most exported products throughout the entire period?\n",
    "\n",
    "Return the products with the highest export value in US$"
   ]
  },
  {
   "cell_type": "code",
   "execution_count": 59,
   "id": "ba74c817",
   "metadata": {},
   "outputs": [
    {
     "data": {
      "text/plain": [
       "SH2 Description\n",
       "Residues and waste from the food industries; others                       5641498484\n",
       "Ores, slag and ash                                                        3404353274\n",
       "Nuclear reactors, boilers, machinery and mechanical appliances; others    1889781694\n",
       "Pulp of wood or of other fibrous cellulosic material, others,             1855424642\n",
       "Aircraft, spacecraft, and parts thereof                                   1253007710\n",
       "Name: US$ FOB, dtype: int64"
      ]
     },
     "metadata": {},
     "output_type": "display_data"
    }
   ],
   "source": [
    "highest_value_products = df.groupby('SH2 Description')['US$ FOB'].sum().nlargest()\n",
    "display(highest_value_products)"
   ]
  },
  {
   "cell_type": "markdown",
   "id": "6ce25d4d",
   "metadata": {},
   "source": [
    "### In 2020, which city exported the most to France?\n",
    "\n",
    "Return the the city and the value in US$"
   ]
  },
  {
   "cell_type": "code",
   "execution_count": 66,
   "id": "074fb7b8",
   "metadata": {},
   "outputs": [
    {
     "data": {
      "text/plain": [
       "City\n",
       "Duque de Caxias - RJ    279405596\n",
       "Name: US$ FOB, dtype: int64"
      ]
     },
     "metadata": {},
     "output_type": "display_data"
    }
   ],
   "source": [
    "df_2020 = df.loc[df['Year']==2020, :]\n",
    "city_most_exports_2020 = df_2020.groupby('City')['US$ FOB'].sum().nlargest(1)\n",
    "display(city_most_exports_2020)"
   ]
  },
  {
   "cell_type": "markdown",
   "id": "84fbbcf3",
   "metadata": {},
   "source": [
    "### What are the most exported products (in US$) that the two largest cities (in terms of export value in 2020) exported?"
   ]
  },
  {
   "cell_type": "code",
   "execution_count": 108,
   "id": "12173e06",
   "metadata": {},
   "outputs": [
    {
     "data": {
      "text/html": [
       "<div>\n",
       "<style scoped>\n",
       "    .dataframe tbody tr th:only-of-type {\n",
       "        vertical-align: middle;\n",
       "    }\n",
       "\n",
       "    .dataframe tbody tr th {\n",
       "        vertical-align: top;\n",
       "    }\n",
       "\n",
       "    .dataframe thead th {\n",
       "        text-align: right;\n",
       "    }\n",
       "</style>\n",
       "<table border=\"1\" class=\"dataframe\">\n",
       "  <thead>\n",
       "    <tr style=\"text-align: right;\">\n",
       "      <th></th>\n",
       "      <th>City</th>\n",
       "      <th>SH2 Description</th>\n",
       "      <th>US$ FOB</th>\n",
       "    </tr>\n",
       "  </thead>\n",
       "  <tbody>\n",
       "    <tr>\n",
       "      <th>21</th>\n",
       "      <td>Luís Eduardo Magalhães - BA</td>\n",
       "      <td>Residues and waste from the food industries; o...</td>\n",
       "      <td>265299808</td>\n",
       "    </tr>\n",
       "    <tr>\n",
       "      <th>10</th>\n",
       "      <td>Duque de Caxias - RJ</td>\n",
       "      <td>Nuclear reactors, boilers, machinery and mecha...</td>\n",
       "      <td>185816982</td>\n",
       "    </tr>\n",
       "  </tbody>\n",
       "</table>\n",
       "</div>"
      ],
      "text/plain": [
       "                           City  \\\n",
       "21  Luís Eduardo Magalhães - BA   \n",
       "10         Duque de Caxias - RJ   \n",
       "\n",
       "                                      SH2 Description    US$ FOB  \n",
       "21  Residues and waste from the food industries; o...  265299808  \n",
       "10  Nuclear reactors, boilers, machinery and mecha...  185816982  "
      ]
     },
     "metadata": {},
     "output_type": "display_data"
    }
   ],
   "source": [
    "cities_most_exports_2020 = df_2020.groupby('City')['US$ FOB'].sum().nlargest(2).reset_index()\n",
    "cities_most_exported_df = df_2020.loc[df_2020['City'].isin(cities_most_exports_2020['City'])]\n",
    "cities_products_exported = cities_most_exported_df.groupby(['City', 'SH2 Description' ])['US$ FOB'].sum().reset_index()\n",
    "\n",
    "# Finds the most exported products from the cities that exported the most\n",
    "cities_most_exported_products = (cities_products_exported.loc[cities_products_exported.groupby('City')['US$ FOB'].idxmax()].sort_values(by='US$ FOB', ascending=False))\n",
    "\n",
    "display(cities_most_exported_products)"
   ]
  }
 ],
 "metadata": {
  "kernelspec": {
   "display_name": "base",
   "language": "python",
   "name": "python3"
  },
  "language_info": {
   "codemirror_mode": {
    "name": "ipython",
    "version": 3
   },
   "file_extension": ".py",
   "mimetype": "text/x-python",
   "name": "python",
   "nbconvert_exporter": "python",
   "pygments_lexer": "ipython3",
   "version": "3.11.5"
  }
 },
 "nbformat": 4,
 "nbformat_minor": 5
}
